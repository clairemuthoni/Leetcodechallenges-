{
  "nbformat": 4,
  "nbformat_minor": 0,
  "metadata": {
    "colab": {
      "provenance": []
    },
    "kernelspec": {
      "name": "python3",
      "display_name": "Python 3"
    },
    "language_info": {
      "name": "python"
    }
  },
  "cells": [
    {
      "cell_type": "code",
      "execution_count": null,
      "metadata": {
        "colab": {
          "base_uri": "https://localhost:8080/"
        },
        "id": "b_BE-NrIdpRD",
        "outputId": "8e4e29d4-bcbc-4d8b-9677-d3f9406aaefe"
      },
      "outputs": [
        {
          "output_type": "stream",
          "name": "stdout",
          "text": [
            "Joe\n"
          ]
        }
      ],
      "source": [
        "import pandas as pd\n",
        "\n",
        "# Sample data for Employee table\n",
        "data = {\n",
        "    'id': [1, 2, 3, 4],\n",
        "    'name': ['Joe', 'Henry', 'Sam', 'Max'],\n",
        "    'salary': [70000, 80000, 60000, 90000],\n",
        "    'managerId': [3, 4, None, None]\n",
        "}\n",
        "\n",
        "# Create DataFrame\n",
        "employee_df = pd.DataFrame(data)\n",
        "\n",
        "employee_df['manager_salary'] = employee_df['managerId'].map(employee_df.set_index('id')['salary'])\n",
        "\n",
        "for index, row in employee_df.iterrows():\n",
        "    if row['salary'] > row['manager_salary']:\n",
        "      print(row['name'])"
      ]
    },
    {
      "cell_type": "code",
      "source": [],
      "metadata": {
        "id": "ps9_Y4L6kNR5"
      },
      "execution_count": null,
      "outputs": []
    }
  ]
}